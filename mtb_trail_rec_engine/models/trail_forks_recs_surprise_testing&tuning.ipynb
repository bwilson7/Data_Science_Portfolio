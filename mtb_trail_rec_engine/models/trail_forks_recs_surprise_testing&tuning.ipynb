{
 "cells": [
  {
   "cell_type": "code",
   "execution_count": 15,
   "metadata": {},
   "outputs": [],
   "source": [
    "import numpy as np\n",
    "import pandas as pd\n",
    "import matplotlib.pyplot as plt\n",
    "%matplotlib inline\n",
    "import seaborn as sns\n",
    "from surprise import (accuracy, Dataset, Reader, KNNWithMeans, \n",
    "                      KNNBaseline, SVD, NormalPredictor, SlopeOne,\n",
    "                      CoClustering)\n",
    "from surprise.model_selection import train_test_split, GridSearchCV, cross_validate\n",
    "from surprise.accuracy import rmse"
   ]
  },
  {
   "cell_type": "code",
   "execution_count": 6,
   "metadata": {},
   "outputs": [],
   "source": [
    "df = pd.read_csv('trail_ratings_cleaned.csv')"
   ]
  },
  {
   "cell_type": "code",
   "execution_count": 7,
   "metadata": {},
   "outputs": [
    {
     "data": {
      "text/html": [
       "<div>\n",
       "<style scoped>\n",
       "    .dataframe tbody tr th:only-of-type {\n",
       "        vertical-align: middle;\n",
       "    }\n",
       "\n",
       "    .dataframe tbody tr th {\n",
       "        vertical-align: top;\n",
       "    }\n",
       "\n",
       "    .dataframe thead th {\n",
       "        text-align: right;\n",
       "    }\n",
       "</style>\n",
       "<table border=\"1\" class=\"dataframe\">\n",
       "  <thead>\n",
       "    <tr style=\"text-align: right;\">\n",
       "      <th></th>\n",
       "      <th>rate_date</th>\n",
       "      <th>rating</th>\n",
       "      <th>trail_id</th>\n",
       "      <th>user</th>\n",
       "      <th>rating_month</th>\n",
       "      <th>rating_day</th>\n",
       "      <th>rating_year</th>\n",
       "      <th>rating_time</th>\n",
       "    </tr>\n",
       "  </thead>\n",
       "  <tbody>\n",
       "    <tr>\n",
       "      <th>0</th>\n",
       "      <td>Jun 13, 2018 @ 12:43pm</td>\n",
       "      <td>5.0</td>\n",
       "      <td>trail_99253</td>\n",
       "      <td>namdoogttam</td>\n",
       "      <td>Jun</td>\n",
       "      <td>13</td>\n",
       "      <td>2018</td>\n",
       "      <td>12:43pm</td>\n",
       "    </tr>\n",
       "    <tr>\n",
       "      <th>1</th>\n",
       "      <td>Aug 12, 2017 @ 2:09pm</td>\n",
       "      <td>4.0</td>\n",
       "      <td>trail_99253</td>\n",
       "      <td>WanderingMan</td>\n",
       "      <td>Aug</td>\n",
       "      <td>12</td>\n",
       "      <td>2017</td>\n",
       "      <td>2:09pm</td>\n",
       "    </tr>\n",
       "    <tr>\n",
       "      <th>2</th>\n",
       "      <td>Mar 28, 2019 @ 11:46am</td>\n",
       "      <td>4.0</td>\n",
       "      <td>trail_130598</td>\n",
       "      <td>BackyardTrailsLLC</td>\n",
       "      <td>Mar</td>\n",
       "      <td>28</td>\n",
       "      <td>2019</td>\n",
       "      <td>11:46am</td>\n",
       "    </tr>\n",
       "    <tr>\n",
       "      <th>3</th>\n",
       "      <td>Apr 8, 2019 @ 7:16pm</td>\n",
       "      <td>4.0</td>\n",
       "      <td>trail_140378</td>\n",
       "      <td>mtnmanpdx</td>\n",
       "      <td>Apr</td>\n",
       "      <td>8</td>\n",
       "      <td>2019</td>\n",
       "      <td>7:16pm</td>\n",
       "    </tr>\n",
       "    <tr>\n",
       "      <th>4</th>\n",
       "      <td>Sep 12, 2018 @ 8:41pm</td>\n",
       "      <td>4.0</td>\n",
       "      <td>trail_140378</td>\n",
       "      <td>dylanmoore</td>\n",
       "      <td>Sep</td>\n",
       "      <td>12</td>\n",
       "      <td>2018</td>\n",
       "      <td>8:41pm</td>\n",
       "    </tr>\n",
       "  </tbody>\n",
       "</table>\n",
       "</div>"
      ],
      "text/plain": [
       "                rate_date  rating      trail_id               user  \\\n",
       "0  Jun 13, 2018 @ 12:43pm     5.0   trail_99253        namdoogttam   \n",
       "1   Aug 12, 2017 @ 2:09pm     4.0   trail_99253       WanderingMan   \n",
       "2  Mar 28, 2019 @ 11:46am     4.0  trail_130598  BackyardTrailsLLC   \n",
       "3    Apr 8, 2019 @ 7:16pm     4.0  trail_140378          mtnmanpdx   \n",
       "4   Sep 12, 2018 @ 8:41pm     4.0  trail_140378         dylanmoore   \n",
       "\n",
       "  rating_month  rating_day  rating_year rating_time  \n",
       "0          Jun          13         2018     12:43pm  \n",
       "1          Aug          12         2017      2:09pm  \n",
       "2          Mar          28         2019     11:46am  \n",
       "3          Apr           8         2019      7:16pm  \n",
       "4          Sep          12         2018      8:41pm  "
      ]
     },
     "execution_count": 7,
     "metadata": {},
     "output_type": "execute_result"
    }
   ],
   "source": [
    "df.head()"
   ]
  },
  {
   "cell_type": "code",
   "execution_count": 8,
   "metadata": {},
   "outputs": [
    {
     "data": {
      "image/png": "[encoded data removed]",
      "text/plain": [
       "<Figure size 432x288 with 1 Axes>"
      ]
     },
     "metadata": {},
     "output_type": "display_data"
    }
   ],
   "source": [
    "sns.set_style('white')\n",
    "plt.hist(df['rating'], bins=5, color='k')\n",
    "plt.axvline(df['rating'].mean(), color='red', ls='--')\n",
    "plt.xlabel('Trail Rating')\n",
    "plt.title('Distribution of Trail Ratings in the USA')\n",
    "plt.show()"
   ]
  },
  {
   "cell_type": "markdown",
   "metadata": {},
   "source": [
    "## Dataset Statistics"
   ]
  },
  {
   "cell_type": "code",
   "execution_count": 9,
   "metadata": {},
   "outputs": [
    {
     "name": "stdout",
     "output_type": "stream",
     "text": [
      "Total number of unique users: 10992\n",
      "Total number of unique trails: 24730\n",
      "Total number of ratings: 66327\n",
      "Average rating for the whole dataset: 3.89\n"
     ]
    }
   ],
   "source": [
    "print('Total number of unique users: {}'.format(df.user.nunique()))\n",
    "print('Total number of unique trails: {}'.format(df.trail_id.nunique()))\n",
    "print('Total number of ratings: {}'.format(len(df)))\n",
    "print('Average rating for the whole dataset: {:.2f}'.format(df['rating'].mean()))"
   ]
  },
  {
   "cell_type": "code",
   "execution_count": 10,
   "metadata": {},
   "outputs": [],
   "source": [
    "reader = Reader(rating_scale=(1,5))\n",
    "data = Dataset.load_from_df(df[['user', 'trail_id', 'rating']], reader)"
   ]
  },
  {
   "cell_type": "code",
   "execution_count": 30,
   "metadata": {},
   "outputs": [],
   "source": [
    "trainset, testset = train_test_split(data, test_size=0.25, random_state=354)"
   ]
  },
  {
   "cell_type": "markdown",
   "metadata": {},
   "source": [
    "## Algorithm & Similarity Comparisons"
   ]
  },
  {
   "cell_type": "code",
   "execution_count": 129,
   "metadata": {},
   "outputs": [
    {
     "name": "stdout",
     "output_type": "stream",
     "text": [
      "Normal Predictor performance:\n",
      "RMSE:  1.4651772794207456\n"
     ]
    }
   ],
   "source": [
    "#most basic prediction algorithm, predicts random rating based on training\n",
    "#distribution which is assumed normal\n",
    "algo = NormalPredictor()\n",
    "algo.fit(trainset)\n",
    "\n",
    "pred = algo.test(testset)\n",
    "print('Normal Predictor performance:')\n",
    "print('RMSE: ', rmse(pred, verbose=False))"
   ]
  },
  {
   "cell_type": "code",
   "execution_count": 40,
   "metadata": {},
   "outputs": [
    {
     "name": "stdout",
     "output_type": "stream",
     "text": [
      "Computing the cosine similarity matrix...\n",
      "Done computing similarity matrix.\n",
      "cosine_similarity for KNN Means\n",
      "RMSE: 1.0680\n",
      "/n\n",
      "Computing the msd similarity matrix...\n",
      "Done computing similarity matrix.\n",
      "msd_similarity for KNN Means\n",
      "RMSE: 1.0646\n",
      "/n\n",
      "Computing the pearson similarity matrix...\n",
      "Done computing similarity matrix.\n",
      "pearson_similarity for KNN Means\n",
      "RMSE: 1.1007\n",
      "/n\n",
      "Estimating biases using als...\n",
      "Computing the pearson_baseline similarity matrix...\n",
      "Done computing similarity matrix.\n",
      "pearson_baseline_similarity for KNN Means\n",
      "RMSE: 1.0942\n",
      "/n\n",
      "Estimating biases using als...\n",
      "Computing the pearson_baseline similarity matrix...\n",
      "Done computing similarity matrix.\n",
      "pearson_baseline_similarity for KNN Baseline\n",
      "RMSE: 0.9664\n",
      "/n\n"
     ]
    }
   ],
   "source": [
    "sim_name = ['cosine', 'msd', 'pearson', 'pearson_baseline']\n",
    "\n",
    "for sim in sim_name:\n",
    "    \n",
    "    sim_options = {\n",
    "        'name':sim,\n",
    "        'min_support':1,\n",
    "        'user_based':False\n",
    "    }\n",
    "    \n",
    "    algo = KNNWithMeans(k=100, min_k=2, sim_options=sim_options)\n",
    "    algo.fit(trainset)\n",
    "    pred = algo.test(testset)\n",
    "    \n",
    "    print('{}_similarity for KNN Means'.format(sim))\n",
    "    rmse(pred)\n",
    "    print('/n')\n",
    "    \n",
    "    if sim == 'pearson_baseline':\n",
    "        sim_options = {\n",
    "            'name':sim,\n",
    "            'min_support':1,\n",
    "            'user_based':False,\n",
    "            'shrinkage':0\n",
    "        }\n",
    "    \n",
    "        algo = KNNBaseline(k=100, min_k=2, sim_options=sim_options)\n",
    "        algo.fit(trainset)\n",
    "        pred = algo.test(testset)\n",
    "    \n",
    "        print('{}_similarity for KNN Baseline'.format(sim))\n",
    "        rmse(pred)\n",
    "        print('/n')"
   ]
  },
  {
   "cell_type": "code",
   "execution_count": 50,
   "metadata": {},
   "outputs": [
    {
     "name": "stdout",
     "output_type": "stream",
     "text": [
      "Estimating biases using sgd...\n",
      "Computing the pearson_baseline similarity matrix...\n",
      "Done computing similarity matrix.\n",
      "RMSE: 0.9583\n"
     ]
    },
    {
     "data": {
      "text/plain": [
       "0.9583076201096898"
      ]
     },
     "execution_count": 50,
     "metadata": {},
     "output_type": "execute_result"
    }
   ],
   "source": [
    "bsl_options = {\n",
    "    'method':'sgd',\n",
    "    'reg':0.2,\n",
    "    'learning_rate':0.002,\n",
    "    'n_epochs':50\n",
    "} \n",
    "\n",
    "sim_options = {\n",
    "    'name':'pearson_baseline',\n",
    "    'min_support':1,\n",
    "    'user_based':False,\n",
    "    'shrinkage':100\n",
    "}\n",
    "\n",
    "algo = KNNBaseline(k=100, min_k=2, sim_options=sim_options, bsl_options=bsl_options)\n",
    "algo.fit(trainset)\n",
    "\n",
    "pred = algo.test(testset)\n",
    "rmse(pred)"
   ]
  },
  {
   "cell_type": "code",
   "execution_count": 131,
   "metadata": {},
   "outputs": [
    {
     "name": "stdout",
     "output_type": "stream",
     "text": [
      "SlopeOne RMSE performance:\n",
      "1.0777394683809434\n"
     ]
    }
   ],
   "source": [
    "algo = SlopeOne()\n",
    "algo.fit(trainset)\n",
    "pred = algo.test(testset)\n",
    "print('SlopeOne RMSE performance:\\n{}'.format(rmse(pred, verbose=False)))"
   ]
  },
  {
   "cell_type": "code",
   "execution_count": 137,
   "metadata": {},
   "outputs": [
    {
     "name": "stdout",
     "output_type": "stream",
     "text": [
      "CoClustering RMSE performance:\n",
      "1.0801751982772625\n"
     ]
    }
   ],
   "source": [
    "# this algorithm assigns clusters to users and items seperately and\n",
    "# then assigns clusters to user item pairs, means of the clusters\n",
    "algo = CoClustering(\n",
    "    n_cltr_u=3,\n",
    "    n_cltr_i=3,\n",
    "    n_epochs=50,\n",
    "    random_state=654\n",
    ")\n",
    "algo.fit(trainset)\n",
    "pred = algo.test(testset)\n",
    "\n",
    "print('CoClustering RMSE performance:\\n{}'.format(rmse(pred, verbose=False)))"
   ]
  },
  {
   "cell_type": "markdown",
   "metadata": {},
   "source": [
    "Performance for CoClustering is on par with KNNWithMeans and SlopeOne. This algorithm is interesting because as the number of clusters decrease the RMSE also decreases, which might indicate that further clustering of the users and items outside of 1 big cluster introduces bias. It could be that the data itself is too sparse for this application."
   ]
  },
  {
   "cell_type": "code",
   "execution_count": 55,
   "metadata": {},
   "outputs": [
    {
     "name": "stdout",
     "output_type": "stream",
     "text": [
      "Processing epoch 0\n",
      "Processing epoch 1\n",
      "Processing epoch 2\n",
      "Processing epoch 3\n",
      "Processing epoch 4\n",
      "Processing epoch 5\n",
      "Processing epoch 6\n",
      "Processing epoch 7\n",
      "Processing epoch 8\n",
      "Processing epoch 9\n",
      "Processing epoch 10\n",
      "Processing epoch 11\n",
      "Processing epoch 12\n",
      "Processing epoch 13\n",
      "Processing epoch 14\n",
      "Processing epoch 15\n",
      "Processing epoch 16\n",
      "Processing epoch 17\n",
      "Processing epoch 18\n",
      "Processing epoch 19\n",
      "Processing epoch 20\n",
      "Processing epoch 21\n",
      "Processing epoch 22\n",
      "Processing epoch 23\n",
      "Processing epoch 24\n",
      "Processing epoch 25\n",
      "Processing epoch 26\n",
      "Processing epoch 27\n",
      "Processing epoch 28\n",
      "Processing epoch 29\n",
      "Processing epoch 30\n",
      "Processing epoch 31\n",
      "Processing epoch 32\n",
      "Processing epoch 33\n",
      "Processing epoch 34\n",
      "Processing epoch 35\n",
      "Processing epoch 36\n",
      "Processing epoch 37\n",
      "Processing epoch 38\n",
      "Processing epoch 39\n",
      "Processing epoch 40\n",
      "Processing epoch 41\n",
      "Processing epoch 42\n",
      "Processing epoch 43\n",
      "Processing epoch 44\n",
      "Processing epoch 45\n",
      "Processing epoch 46\n",
      "Processing epoch 47\n",
      "Processing epoch 48\n",
      "Processing epoch 49\n",
      "RMSE: 0.9876\n"
     ]
    },
    {
     "data": {
      "text/plain": [
       "0.9875977681971287"
      ]
     },
     "execution_count": 55,
     "metadata": {},
     "output_type": "execute_result"
    }
   ],
   "source": [
    "# first iteration set lr and reg to be same as final point from KNNBaseline\n",
    "# will iterate from there and determine more optimal numbers to compare\n",
    "algo = SVD(\n",
    "    n_factors=100, \n",
    "    n_epochs=50,\n",
    "    lr_all=0.002,\n",
    "    reg_all=0.2,\n",
    "    random_state=654, \n",
    "    verbose=True\n",
    ")\n",
    "\n",
    "algo.fit(trainset)\n",
    "\n",
    "pred = algo.test(testset)\n",
    "rmse(pred)"
   ]
  },
  {
   "cell_type": "markdown",
   "metadata": {},
   "source": [
    "The SVD algorithm is performing on par with semi-tuned KNNBaseline. From here I want to test a couple of parameter changes and then tune the SVD algorithm with GridSearchCV. If RMSE can get below the KNNBaseline RMSE above, this will be the algorithm I go with."
   ]
  },
  {
   "cell_type": "code",
   "execution_count": 107,
   "metadata": {},
   "outputs": [
    {
     "name": "stdout",
     "output_type": "stream",
     "text": [
      "SVD RMSE performance:\n",
      "1.012011159059524\n"
     ]
    }
   ],
   "source": [
    "# testing with far fewer factors, lower regularization, and increased learning rate\n",
    "algo = SVD(\n",
    "    n_factors=500, \n",
    "    n_epochs=75,\n",
    "    lr_all=0.002,\n",
    "    reg_all=0.2,\n",
    "    random_state=654\n",
    ")\n",
    "\n",
    "algo.fit(trainset)\n",
    "\n",
    "pred = algo.test(testset)\n",
    "print('SVD RMSE performance:\\n{}'.format(rmse(pred, verbose=False)))"
   ]
  },
  {
   "cell_type": "code",
   "execution_count": 127,
   "metadata": {},
   "outputs": [
    {
     "name": "stdout",
     "output_type": "stream",
     "text": [
      "SVD RMSE performance:\n",
      "0.9398378908359813\n"
     ]
    }
   ],
   "source": [
    "# testing with far fewer factors, lower regularization, and increased learning rate\n",
    "algo = SVD(\n",
    "    n_factors=5, \n",
    "    n_epochs=50,\n",
    "    lr_all=0.005,\n",
    "    reg_all=0.056,\n",
    "    random_state=654\n",
    ")\n",
    "\n",
    "algo.fit(trainset)\n",
    "\n",
    "pred = algo.test(testset)\n",
    "print('SVD RMSE performance:\\n{}'.format(rmse(pred, verbose=False)))"
   ]
  },
  {
   "cell_type": "markdown",
   "metadata": {},
   "source": [
    "Dropping the number of factors, increasing the learning rate, and decreasing regularization have all combined to decrease RMSE by 0.0478 to 0.9398. This will be helpful to dictate the range of parameters to use when tuning.\n",
    "\n",
    "From here I want to tune the SVD model and do a 5-fold cv to evaluate any overfit issues. If at any point from here on performance is degrading, we will go back to tune and evaluate the KNNBaseline algorithm."
   ]
  },
  {
   "cell_type": "markdown",
   "metadata": {},
   "source": [
    "## Parameter Tuning and CV"
   ]
  },
  {
   "cell_type": "code",
   "execution_count": 14,
   "metadata": {},
   "outputs": [
    {
     "name": "stdout",
     "output_type": "stream",
     "text": [
      "0.9237777049458815\n",
      "{'n_factors': 1, 'n_epochs': 50, 'lr_all': 0.007, 'reg_all': 0.05}\n"
     ]
    }
   ],
   "source": [
    "param_grid = {\n",
    "    'n_factors':[1,5,10,100],\n",
    "    'n_epochs':[10, 50],\n",
    "    'lr_all':[0.001,0.003,0.005,0.007],\n",
    "    'reg_all':[0.01,0.03,0.05,0.07]\n",
    "}\n",
    "gs = GridSearchCV(SVD, param_grid, measures=['rmse', 'mae'], cv=5)\n",
    "\n",
    "gs.fit(data)\n",
    "\n",
    "print(gs.best_score['rmse'])\n",
    "print(gs.best_params['rmse'])"
   ]
  },
  {
   "cell_type": "code",
   "execution_count": 21,
   "metadata": {},
   "outputs": [
    {
     "name": "stdout",
     "output_type": "stream",
     "text": [
      "Evaluating RMSE, MAE of algorithm SVD on 5 split(s).\n",
      "\n",
      "                  Fold 1  Fold 2  Fold 3  Fold 4  Fold 5  Mean    Std     \n",
      "RMSE (testset)    0.9314  0.9296  0.9222  0.9190  0.9271  0.9259  0.0046  \n",
      "MAE (testset)     0.7030  0.7014  0.6981  0.6926  0.6978  0.6986  0.0036  \n",
      "Fit time          1.92    1.76    1.76    1.75    1.76    1.79    0.07    \n",
      "Test time         0.07    0.07    0.07    0.14    0.07    0.08    0.03    \n"
     ]
    },
    {
     "data": {
      "text/plain": [
       "{'test_rmse': array([0.93139836, 0.92957066, 0.92220211, 0.91902002, 0.92706704]),\n",
       " 'test_mae': array([0.70296432, 0.70137344, 0.69807216, 0.69258124, 0.69780535]),\n",
       " 'fit_time': (1.9203078746795654,\n",
       "  1.7555139064788818,\n",
       "  1.763383150100708,\n",
       "  1.7504069805145264,\n",
       "  1.758100986480713),\n",
       " 'test_time': (0.0672311782836914,\n",
       "  0.06780862808227539,\n",
       "  0.06926417350769043,\n",
       "  0.13796186447143555,\n",
       "  0.06724810600280762)}"
      ]
     },
     "execution_count": 21,
     "metadata": {},
     "output_type": "execute_result"
    }
   ],
   "source": [
    "algo = SVD(n_factors=1, n_epochs=50, lr_all=0.007, reg_all=0.05)\n",
    "cross_validate(algo, data, measures=['RMSE','MAE'], cv=5, verbose=True)"
   ]
  },
  {
   "cell_type": "markdown",
   "metadata": {},
   "source": [
    "Overfit isn't a concern here. The RMSE and MAE are consistently grouped tightly around 0.92 and 0.70 respectively. This looks to be the winning model from a prediction performance perspective. The above parameters will be used in the production models comparing the SVD approach to a content based system."
   ]
  }
 ],
 "metadata": {
  "kernelspec": {
   "display_name": "Python 3",
   "language": "python",
   "name": "python3"
  },
  "language_info": {
   "codemirror_mode": {
    "name": "ipython",
    "version": 3
   },
   "file_extension": ".py",
   "mimetype": "text/x-python",
   "name": "python",
   "nbconvert_exporter": "python",
   "pygments_lexer": "ipython3",
   "version": "3.7.1"
  },
  "toc": {
   "base_numbering": 1,
   "nav_menu": {},
   "number_sections": true,
   "sideBar": true,
   "skip_h1_title": false,
   "title_cell": "Table of Contents",
   "title_sidebar": "Contents",
   "toc_cell": false,
   "toc_position": {},
   "toc_section_display": true,
   "toc_window_display": true
  }
 },
 "nbformat": 4,
 "nbformat_minor": 2
}
