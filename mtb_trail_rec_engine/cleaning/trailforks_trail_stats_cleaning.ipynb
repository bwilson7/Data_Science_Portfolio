{
 "cells": [
  {
   "cell_type": "markdown",
   "metadata": {},
   "source": [
    "# Trail Stats Data Cleaning"
   ]
  },
  {
   "cell_type": "code",
   "execution_count": 13,
   "metadata": {},
   "outputs": [],
   "source": [
    "import pandas as pd\n",
    "import numpy as np\n",
    "import matplotlib.pyplot as plt\n",
    "%matplotlib inline\n",
    "import seaborn as sns\n",
    "\n",
    "sns.set(style='white')"
   ]
  },
  {
   "cell_type": "markdown",
   "metadata": {},
   "source": [
    "## Functions"
   ]
  },
  {
   "cell_type": "code",
   "execution_count": 2,
   "metadata": {},
   "outputs": [],
   "source": [
    "def distance_cleaner(dataf, dist_col):\n",
    "    df.loc[df[col].isna(), col] = 'NaN'\n",
    "    \n",
    "    # capturing the original distance measure in a new column\n",
    "    dataf.loc[dataf[dist_col].str.contains('ft'), '{}_measure'.format(dist_col)] = 'feet'\n",
    "    dataf.loc[dataf[dist_col].str.contains('miles'), '{}_measure'.format(dist_col)] = 'miles'\n",
    "    \n",
    "    # cleaning the text to remove non-numeric characters\n",
    "    dataf[dist_col] = dataf[dist_col].str.replace('miles', '').str.strip()\n",
    "    dataf[dist_col] = dataf[dist_col].str.replace('ft', '').str.strip()\n",
    "    dataf[dist_col] = dataf[dist_col].str.replace(',', '')\n",
    "    \n",
    "    # replacing nulls and converting to floats\n",
    "    dataf.loc[dataf[dist_col] == 'NaN', dist_col] = np.nan\n",
    "    dataf.loc[dataf[dist_col] == 'BUMMER', dist_col] = np.nan\n",
    "    dataf[dist_col] = dataf[dist_col].astype('float')\n",
    "    \n",
    "    #converting all non-feet units to feet\n",
    "    dataf.loc[df['{}_measure'.format(dist_col)] == 'miles', dist_col] = dataf.loc[df['{}_measure'.format(dist_col)] == 'miles', dist_col] * 5280\n",
    "    \n",
    "def unique_categories(df, col):\n",
    "    unique_cat = []\n",
    "    for i in df[col]:\n",
    "        hold = i.split(',')\n",
    "        for cat in hold:\n",
    "            cat = cat.strip()\n",
    "            if cat not in unique_cat:\n",
    "                unique_cat.append(cat)\n",
    "    return unique_cat\n",
    "\n",
    "def bummer_to_nan(dataf, col):\n",
    "    #all of the operations happen inplace so reassignment with the function isn't necessary\n",
    "    dataf[col] = dataf[col].str.replace(' Reviews & Comments', '').str.replace(',', '')\n",
    "    dataf[col] = dataf[col].str.replace(' Review & Comments', '').str.replace(',', '')\n",
    "    dataf.loc[dataf[col] == 'BUMMER', col] = np.NaN\n",
    "    dataf[col] = dataf[col].astype('float')\n",
    "    \n",
    "def string_list_dummies(unique_items_list, dataf, orig_col):\n",
    "    for item in unique_items_list:\n",
    "        if item != 'BUMMER' and item != '':\n",
    "            col_title = item.lower().replace(' ', '_')\n",
    "            dataf.loc[:, col_title] = 0\n",
    "            dataf.loc[df[orig_col].str.contains(item), col_title] = 1"
   ]
  },
  {
   "cell_type": "markdown",
   "metadata": {},
   "source": [
    "## Data Loading & Column Name Cleaning"
   ]
  },
  {
   "cell_type": "code",
   "execution_count": 3,
   "metadata": {},
   "outputs": [],
   "source": [
    "df = pd.read_json('usa_trails_details_102019.json')"
   ]
  },
  {
   "cell_type": "code",
   "execution_count": 4,
   "metadata": {},
   "outputs": [],
   "source": [
    "df.columns = [col.lower().replace(' ', '_') for col in df.columns]\n",
    "\n",
    "cat_col = ['bike_type', 'difficulty_rating', 'dogs_allowed', 'riding_area',\n",
    "           'ttfs_on_trail', 'trail_type', 'description', 'location', 'trail_name',\n",
    "           'trail_id'\n",
    "          ]\n",
    "       \n",
    "numeric_col = [col for col in df.columns if col not in cat_col]\n",
    "\n",
    "non_distance_numeric_col = ['global_ranking', 'grade', 'grade_max',\n",
    "                            'grade_min', 'comment_count', 'total_rides',\n",
    "                            'average_time'\n",
    "                           ]\n",
    "\n",
    "distance_col = [col for col in numeric_col if col not in non_distance_numeric_col]"
   ]
  },
  {
   "cell_type": "code",
   "execution_count": 5,
   "metadata": {},
   "outputs": [],
   "source": [
    "#stripping leading and trailing whitespace from all categorical columns\n",
    "for col in cat_col:\n",
    "    df[col] = df[col].str.strip()"
   ]
  },
  {
   "cell_type": "markdown",
   "metadata": {},
   "source": [
    "## Null Identification and Numerical Cleaning"
   ]
  },
  {
   "cell_type": "code",
   "execution_count": 6,
   "metadata": {},
   "outputs": [
    {
     "name": "stdout",
     "output_type": "stream",
     "text": [
      "trail_id:\t\t12\n",
      "trail_name:\t\t1\n",
      "climb:\t\t5258\n",
      "descent:\t\t4004\n",
      "distance:\t\t331\n",
      "description:\t\t1\n",
      "grade_min:\t\t703\n",
      "grade:\t\t3761\n",
      "distance_climb:\t\t3988\n",
      "grade_max:\t\t669\n",
      "altitude_change:\t\t1436\n",
      "distance_down:\t\t3004\n",
      "altitude_start:\t\t334\n",
      "altitude_min:\t\t354\n",
      "altitude_end:\t\t335\n",
      "distance_flat:\t\t8906\n",
      "altitude_max:\t\t16681\n",
      "average_time:\t\t16527\n",
      "total_rides:\t\t651\n",
      "comment_count:\t\t52311\n",
      "location:\t\t101\n",
      "riding_area:\t\t101\n",
      "difficulty_rating:\t\t1\n",
      "trail_type:\t\t1\n",
      "bike_type:\t\t25366\n",
      "dogs_allowed:\t\t2534\n",
      "ttfs_on_trail:\t\t51667\n",
      "global_ranking:\t\t16396\n"
     ]
    }
   ],
   "source": [
    "original_columns = df.columns\n",
    "for col in df.columns:\n",
    "    nulls = len(df.loc[df[col].isna()])\n",
    "    bummers = len(df.loc[df[col] == 'BUMMER'])\n",
    "    col_null = nulls + bummers\n",
    "    print('{}:\\t\\t{}'.format(col, col_null))"
   ]
  },
  {
   "cell_type": "code",
   "execution_count": 7,
   "metadata": {},
   "outputs": [],
   "source": [
    "for col in distance_col:\n",
    "    distance_cleaner(df, col)"
   ]
  },
  {
   "cell_type": "code",
   "execution_count": 8,
   "metadata": {},
   "outputs": [],
   "source": [
    "altitudes = ['altitude_start', 'altitude_end', 'altitude_max', 'altitude_min', 'altitude_change']\n",
    "#site uses -16213.0 for all altitude categories in some cases\n",
    "df.loc[df['altitude_start'] == -16213.0, altitudes] = np.NaN"
   ]
  },
  {
   "cell_type": "code",
   "execution_count": 9,
   "metadata": {},
   "outputs": [],
   "source": [
    "#filling in max altitudes using min altitude and altitude change\n",
    "df.loc[:, 'imputed_altitude_max'] = 0\n",
    "df.loc[df['altitude_max'].isna(), 'imputed_altitude_max'] = 1\n",
    "\n",
    "df.loc[:, 'imputed_altitude_change'] = 0\n",
    "df.loc[df['altitude_change'].isna(), 'imputed_caltitude_change'] = 1\n",
    "\n",
    "mask_descend = (\n",
    "    (df['altitude_max'].isna()) & \n",
    "    (df['altitude_change'].notna()) &\n",
    "    (df['altitude_start'] > df['altitude_end'])\n",
    ")\n",
    "df.loc[mask_descend, 'altitude_max'] = (df.loc[mask_descend, 'altitude_min'] + \n",
    "                                        abs(df.loc[mask_descend, 'altitude_change']))\n",
    "\n",
    "mask_climb = (\n",
    "    (df['altitude_max'].isna()) & \n",
    "    (df['altitude_change'].notna()) &\n",
    "    (df['altitude_start'] < df['altitude_end'])\n",
    ")\n",
    "df.loc[mask_climb, 'altitude_max'] = (df.loc[mask_climb, 'altitude_min'] + \n",
    "                                      (df.loc[mask_climb, 'altitude_change']))\n",
    "\n",
    "mask = (\n",
    "    (df['altitude_max'].isna()) & \n",
    "    (df['altitude_start'] == df['altitude_end']) &\n",
    "    (df['altitude_start'] > df['altitude_min']) |\n",
    "    (df['altitude_start'] == df['altitude_min'])\n",
    ")\n",
    "df.loc[mask, 'altitude_max'] = df.loc[mask, 'altitude_start']\n",
    "\n",
    "mask = (\n",
    "    (df['altitude_max'].isna()) & \n",
    "    (df['altitude_start'] < df['altitude_end'])\n",
    ")\n",
    "df.loc[mask, 'altitude_max'] = df.loc[mask, 'altitude_end']\n",
    "\n",
    "mask = (\n",
    "    (df['altitude_max'].isna()) & \n",
    "    (df['altitude_start'] > df['altitude_end'])\n",
    ")\n",
    "df.loc[mask, 'altitude_max'] = df.loc[mask, 'altitude_start']"
   ]
  },
  {
   "cell_type": "code",
   "execution_count": 10,
   "metadata": {},
   "outputs": [],
   "source": [
    "#cleaning a few nulls where no altitude changes for the trail\n",
    "mask = (\n",
    "    (df['altitude_start'] == df['altitude_end']) & \n",
    "    (df['altitude_end'] == df['altitude_max']) &\n",
    "    (df['altitude_max'] == df['altitude_min']) &\n",
    "    (df['altitude_change'].isna())\n",
    ")\n",
    "df.loc[mask, 'altitude_change'] = 0.0\n",
    "df.loc[df['altitude_min'] < -150, 'altitude_min'] = df.loc[df['altitude_min'] < -150, 'altitude_end']"
   ]
  },
  {
   "cell_type": "code",
   "execution_count": 11,
   "metadata": {},
   "outputs": [
    {
     "name": "stdout",
     "output_type": "stream",
     "text": [
      "Starting Altitude Change nulls: 1282\n",
      "Ending Altitude Change nulls: 355\n"
     ]
    }
   ],
   "source": [
    "print('Starting Altitude Change nulls:', len(df.loc[df.altitude_change.isna()]))\n",
    "mask = (\n",
    "    (df['altitude_change'].isna()) \n",
    ")\n",
    "df.loc[mask, 'altitude_change'] = df.loc[mask, 'altitude_end'] - df.loc[mask, 'altitude_start']\n",
    "print('Ending Altitude Change nulls:', len(df.loc[df.altitude_change.isna()]))"
   ]
  },
  {
   "cell_type": "code",
   "execution_count": 14,
   "metadata": {},
   "outputs": [
    {
     "data": {
      "image/png": "[encoded data removed]",
      "text/plain": [
       "<Figure size 864x864 with 11 Axes>"
      ]
     },
     "metadata": {},
     "output_type": "display_data"
    }
   ],
   "source": [
    "plt.figure(figsize=(12,12))\n",
    "n = 1\n",
    "for col in distance_col:\n",
    "    plt.subplot(6, 2, n)\n",
    "    sns.distplot(df[col], bins=100)\n",
    "    n += 1\n",
    "plt.tight_layout()    \n",
    "plt.show()"
   ]
  },
  {
   "cell_type": "markdown",
   "metadata": {},
   "source": [
    "There are a couple of interesting outliers here. The distance column has quite a few trails over 100,000 feet long (~19 miles). After reviewing some of the trail descriptions there are a few that are multi-use snowmobile or jeep roads that people ride. Thankfully this does not look like the result of errors with the feet conversion.\n",
    "\n",
    "The other issue to address are the trails with altitudes of 30,000+ feet, which would put them higher than Mt. Everest.... suspicious to say the least."
   ]
  },
  {
   "cell_type": "code",
   "execution_count": 15,
   "metadata": {
    "scrolled": true
   },
   "outputs": [
    {
     "data": {
      "text/html": [
       "<div>\n",
       "<style scoped>\n",
       "    .dataframe tbody tr th:only-of-type {\n",
       "        vertical-align: middle;\n",
       "    }\n",
       "\n",
       "    .dataframe tbody tr th {\n",
       "        vertical-align: top;\n",
       "    }\n",
       "\n",
       "    .dataframe thead th {\n",
       "        text-align: right;\n",
       "    }\n",
       "</style>\n",
       "<table border=\"1\" class=\"dataframe\">\n",
       "  <thead>\n",
       "    <tr style=\"text-align: right;\">\n",
       "      <th></th>\n",
       "      <th>trail_name</th>\n",
       "      <th>location</th>\n",
       "      <th>distance</th>\n",
       "      <th>total_rides</th>\n",
       "      <th>average_time</th>\n",
       "      <th>altitude_change</th>\n",
       "      <th>altitude_max</th>\n",
       "      <th>altitude_min</th>\n",
       "      <th>altitude_start</th>\n",
       "      <th>altitude_end</th>\n",
       "    </tr>\n",
       "  </thead>\n",
       "  <tbody>\n",
       "    <tr>\n",
       "      <th>2063</th>\n",
       "      <td>Badger Pass Climb</td>\n",
       "      <td>Las Vegas, Nevada</td>\n",
       "      <td>1857.0</td>\n",
       "      <td>1,332</td>\n",
       "      <td>00:04:02</td>\n",
       "      <td>-325.0</td>\n",
       "      <td>15200.0</td>\n",
       "      <td>14875.0</td>\n",
       "      <td>15200.0</td>\n",
       "      <td>14875.0</td>\n",
       "    </tr>\n",
       "    <tr>\n",
       "      <th>4372</th>\n",
       "      <td>Bomb Voyage</td>\n",
       "      <td>Las Vegas, Nevada</td>\n",
       "      <td>10560.0</td>\n",
       "      <td>171</td>\n",
       "      <td>00:25:22</td>\n",
       "      <td>-3294.0</td>\n",
       "      <td>16070.0</td>\n",
       "      <td>12690.0</td>\n",
       "      <td>15984.0</td>\n",
       "      <td>12690.0</td>\n",
       "    </tr>\n",
       "    <tr>\n",
       "      <th>15333</th>\n",
       "      <td>Hardy’s Hill</td>\n",
       "      <td>Poultney, Vermont</td>\n",
       "      <td>10560.0</td>\n",
       "      <td>15</td>\n",
       "      <td>00:19:51</td>\n",
       "      <td>0.0</td>\n",
       "      <td>32708.0</td>\n",
       "      <td>32708.0</td>\n",
       "      <td>32708.0</td>\n",
       "      <td>32708.0</td>\n",
       "    </tr>\n",
       "    <tr>\n",
       "      <th>16369</th>\n",
       "      <td>Homestake Trail</td>\n",
       "      <td>Deadwood-Lead, South Dakota</td>\n",
       "      <td>15840.0</td>\n",
       "      <td>11</td>\n",
       "      <td>00:27:48</td>\n",
       "      <td>2002.0</td>\n",
       "      <td>17287.0</td>\n",
       "      <td>14919.0</td>\n",
       "      <td>14929.0</td>\n",
       "      <td>16932.0</td>\n",
       "    </tr>\n",
       "    <tr>\n",
       "      <th>19727</th>\n",
       "      <td>Little Jimmy Switchbacks</td>\n",
       "      <td>Las Vegas, Nevada</td>\n",
       "      <td>1372.0</td>\n",
       "      <td>284</td>\n",
       "      <td>00:03:43</td>\n",
       "      <td>131.0</td>\n",
       "      <td>15994.0</td>\n",
       "      <td>15994.0</td>\n",
       "      <td>15994.0</td>\n",
       "      <td>16125.0</td>\n",
       "    </tr>\n",
       "    <tr>\n",
       "      <th>19728</th>\n",
       "      <td>Little Jimmy</td>\n",
       "      <td>Las Vegas, Nevada</td>\n",
       "      <td>4863.0</td>\n",
       "      <td>273</td>\n",
       "      <td>00:11:59</td>\n",
       "      <td>764.0</td>\n",
       "      <td>16060.0</td>\n",
       "      <td>15262.0</td>\n",
       "      <td>15295.0</td>\n",
       "      <td>16060.0</td>\n",
       "    </tr>\n",
       "    <tr>\n",
       "      <th>22548</th>\n",
       "      <td>Mormon Mountain</td>\n",
       "      <td>Sedona, Arizona</td>\n",
       "      <td>15840.0</td>\n",
       "      <td>4</td>\n",
       "      <td>00:39:38</td>\n",
       "      <td>-4252.0</td>\n",
       "      <td>27910.0</td>\n",
       "      <td>23488.0</td>\n",
       "      <td>27740.0</td>\n",
       "      <td>23488.0</td>\n",
       "    </tr>\n",
       "    <tr>\n",
       "      <th>29895</th>\n",
       "      <td>Rocky Ridge</td>\n",
       "      <td>Poultney, Vermont</td>\n",
       "      <td>5280.0</td>\n",
       "      <td>37</td>\n",
       "      <td>00:14:16</td>\n",
       "      <td>0.0</td>\n",
       "      <td>19076.0</td>\n",
       "      <td>19076.0</td>\n",
       "      <td>19076.0</td>\n",
       "      <td>19076.0</td>\n",
       "    </tr>\n",
       "    <tr>\n",
       "      <th>30356</th>\n",
       "      <td>Rusty Bucket</td>\n",
       "      <td>Poultney, Vermont</td>\n",
       "      <td>5280.0</td>\n",
       "      <td>59</td>\n",
       "      <td>00:10:13</td>\n",
       "      <td>0.0</td>\n",
       "      <td>24240.0</td>\n",
       "      <td>24240.0</td>\n",
       "      <td>24240.0</td>\n",
       "      <td>24240.0</td>\n",
       "    </tr>\n",
       "    <tr>\n",
       "      <th>35389</th>\n",
       "      <td>Three Amigos</td>\n",
       "      <td>Las Vegas, Nevada</td>\n",
       "      <td>4820.0</td>\n",
       "      <td>16</td>\n",
       "      <td>00:18:53</td>\n",
       "      <td>-325.0</td>\n",
       "      <td>15564.0</td>\n",
       "      <td>15135.0</td>\n",
       "      <td>15545.0</td>\n",
       "      <td>15220.0</td>\n",
       "    </tr>\n",
       "    <tr>\n",
       "      <th>46809</th>\n",
       "      <td>Ridge</td>\n",
       "      <td>Las Vegas, Nevada</td>\n",
       "      <td>3209.0</td>\n",
       "      <td>149</td>\n",
       "      <td>00:09:50</td>\n",
       "      <td>-581.0</td>\n",
       "      <td>16145.0</td>\n",
       "      <td>15522.0</td>\n",
       "      <td>16125.0</td>\n",
       "      <td>15545.0</td>\n",
       "    </tr>\n",
       "    <tr>\n",
       "      <th>47282</th>\n",
       "      <td>Radio Tower</td>\n",
       "      <td>Las Vegas, Nevada</td>\n",
       "      <td>5280.0</td>\n",
       "      <td>148</td>\n",
       "      <td>00:16:30</td>\n",
       "      <td>689.0</td>\n",
       "      <td>16125.0</td>\n",
       "      <td>15154.0</td>\n",
       "      <td>15436.0</td>\n",
       "      <td>16125.0</td>\n",
       "    </tr>\n",
       "    <tr>\n",
       "      <th>57389</th>\n",
       "      <td>Bone Shaker</td>\n",
       "      <td>Las Vegas, Nevada</td>\n",
       "      <td>10560.0</td>\n",
       "      <td>129</td>\n",
       "      <td>00:23:42</td>\n",
       "      <td>-3143.0</td>\n",
       "      <td>15295.0</td>\n",
       "      <td>12087.0</td>\n",
       "      <td>15276.0</td>\n",
       "      <td>12133.0</td>\n",
       "    </tr>\n",
       "    <tr>\n",
       "      <th>58318</th>\n",
       "      <td>Barr</td>\n",
       "      <td>Colorado Springs, Colorado</td>\n",
       "      <td>63360.0</td>\n",
       "      <td>44</td>\n",
       "      <td>02:06:44</td>\n",
       "      <td>-7401.0</td>\n",
       "      <td>14086.0</td>\n",
       "      <td>6685.0</td>\n",
       "      <td>14086.0</td>\n",
       "      <td>6685.0</td>\n",
       "    </tr>\n",
       "  </tbody>\n",
       "</table>\n",
       "</div>"
      ],
      "text/plain": [
       "                     trail_name                     location  distance  \\\n",
       "2063          Badger Pass Climb            Las Vegas, Nevada    1857.0   \n",
       "4372                Bomb Voyage            Las Vegas, Nevada   10560.0   \n",
       "15333              Hardy’s Hill            Poultney, Vermont   10560.0   \n",
       "16369           Homestake Trail  Deadwood-Lead, South Dakota   15840.0   \n",
       "19727  Little Jimmy Switchbacks            Las Vegas, Nevada    1372.0   \n",
       "19728              Little Jimmy            Las Vegas, Nevada    4863.0   \n",
       "22548           Mormon Mountain              Sedona, Arizona   15840.0   \n",
       "29895               Rocky Ridge            Poultney, Vermont    5280.0   \n",
       "30356              Rusty Bucket            Poultney, Vermont    5280.0   \n",
       "35389              Three Amigos            Las Vegas, Nevada    4820.0   \n",
       "46809                     Ridge            Las Vegas, Nevada    3209.0   \n",
       "47282               Radio Tower            Las Vegas, Nevada    5280.0   \n",
       "57389               Bone Shaker            Las Vegas, Nevada   10560.0   \n",
       "58318                      Barr   Colorado Springs, Colorado   63360.0   \n",
       "\n",
       "      total_rides average_time  altitude_change  altitude_max  altitude_min  \\\n",
       "2063        1,332     00:04:02           -325.0       15200.0       14875.0   \n",
       "4372          171     00:25:22          -3294.0       16070.0       12690.0   \n",
       "15333          15     00:19:51              0.0       32708.0       32708.0   \n",
       "16369          11     00:27:48           2002.0       17287.0       14919.0   \n",
       "19727         284     00:03:43            131.0       15994.0       15994.0   \n",
       "19728         273     00:11:59            764.0       16060.0       15262.0   \n",
       "22548           4     00:39:38          -4252.0       27910.0       23488.0   \n",
       "29895          37     00:14:16              0.0       19076.0       19076.0   \n",
       "30356          59     00:10:13              0.0       24240.0       24240.0   \n",
       "35389          16     00:18:53           -325.0       15564.0       15135.0   \n",
       "46809         149     00:09:50           -581.0       16145.0       15522.0   \n",
       "47282         148     00:16:30            689.0       16125.0       15154.0   \n",
       "57389         129     00:23:42          -3143.0       15295.0       12087.0   \n",
       "58318          44     02:06:44          -7401.0       14086.0        6685.0   \n",
       "\n",
       "       altitude_start  altitude_end  \n",
       "2063          15200.0       14875.0  \n",
       "4372          15984.0       12690.0  \n",
       "15333         32708.0       32708.0  \n",
       "16369         14929.0       16932.0  \n",
       "19727         15994.0       16125.0  \n",
       "19728         15295.0       16060.0  \n",
       "22548         27740.0       23488.0  \n",
       "29895         19076.0       19076.0  \n",
       "30356         24240.0       24240.0  \n",
       "35389         15545.0       15220.0  \n",
       "46809         16125.0       15545.0  \n",
       "47282         15436.0       16125.0  \n",
       "57389         15276.0       12133.0  \n",
       "58318         14086.0        6685.0  "
      ]
     },
     "execution_count": 15,
     "metadata": {},
     "output_type": "execute_result"
    }
   ],
   "source": [
    "df.loc[df.altitude_max > 14000, ['trail_name', 'location', 'distance', 'total_rides', 'average_time', 'altitude_change', 'altitude_max', 'altitude_min', 'altitude_start', 'altitude_end']]"
   ]
  },
  {
   "cell_type": "markdown",
   "metadata": {},
   "source": [
    "## Average Time, Difficulty Ratings, & Other Numeric Columns"
   ]
  },
  {
   "cell_type": "code",
   "execution_count": 16,
   "metadata": {},
   "outputs": [],
   "source": [
    "#global ranking replace Bummers with np.NaN and remove commas\n",
    "#comment count replace Bummers with np.NaN and Review & Comments \n",
    "#total_rides replace Bummers with np.NaN\n",
    "\n",
    "other = ['global_ranking', 'comment_count', 'total_rides']\n",
    "\n",
    "for column in other:\n",
    "    bummer_to_nan(df, column)\n",
    "\n",
    "#binarizing comment count due to number of nulls \n",
    "df.loc[:, 'has_comments'] = 0\n",
    "df.loc[df.comment_count > 0, 'has_comments'] = 1\n",
    "\n",
    "#if no rides have been reported then the total is 0\n",
    "df.loc[df.total_rides.isna(), 'total_rides'] = 0\n",
    "\n",
    "df.loc[:, 'globally_ranked'] = 1\n",
    "df.loc[df.global_ranking.isna(), 'globally_ranked'] = 0"
   ]
  },
  {
   "cell_type": "code",
   "execution_count": 17,
   "metadata": {},
   "outputs": [],
   "source": [
    "#converting average ride time to float minutes\n",
    "times = df['average_time'].str.split(':')\n",
    "df['avg_hours'] = [time[0] if time != 'BUMMER' else np.NaN for time in times]\n",
    "df['avg_minutes'] = [time[1] if len(time) > 1 else np.NaN for time in times]\n",
    "df['avg_seconds'] = [time[2] if len(time) > 1 else np.NaN for time in times]\n",
    "df.loc[df['avg_hours'] == 'BUMMER', 'avg_hours'] = np.NaN\n",
    "\n",
    "df['avg_ride_minutes'] = ((df['avg_hours'].astype('float') * 60) + \n",
    "                          (df['avg_minutes'].astype('float')) + \n",
    "                          (df['avg_seconds'].astype('float') / 60))"
   ]
  },
  {
   "cell_type": "code",
   "execution_count": 18,
   "metadata": {},
   "outputs": [],
   "source": [
    "#if there aren't any rides to average then the ride time is 0\n",
    "mask = (\n",
    "    (df['avg_ride_minutes'].isna()) & \n",
    "    (df['total_rides'] == 0.0)\n",
    ")\n",
    "df.loc[mask, 'avg_ride_minutes'] = 0.0"
   ]
  },
  {
   "cell_type": "code",
   "execution_count": 19,
   "metadata": {},
   "outputs": [
    {
     "data": {
      "text/plain": [
       "False    58166\n",
       "True      1311\n",
       "Name: avg_ride_minutes, dtype: int64"
      ]
     },
     "execution_count": 19,
     "metadata": {},
     "output_type": "execute_result"
    }
   ],
   "source": [
    "df.avg_ride_minutes.isna().value_counts()"
   ]
  },
  {
   "cell_type": "code",
   "execution_count": 20,
   "metadata": {},
   "outputs": [
    {
     "data": {
      "image/png": "[encoded data removed]",
      "text/plain": [
       "<Figure size 432x288 with 1 Axes>"
      ]
     },
     "metadata": {},
     "output_type": "display_data"
    }
   ],
   "source": [
    "test = df.loc[(df.avg_ride_minutes>0) & (df.distance>0), ['avg_ride_minutes', 'distance']]\n",
    "sns.regplot(x=test['avg_ride_minutes'], y=test['distance'], fit_reg=True)\n",
    "plt.xlim(0,600)\n",
    "plt.ylim(0,200000)\n",
    "plt.show()"
   ]
  },
  {
   "cell_type": "markdown",
   "metadata": {},
   "source": [
    "The spread in ride time compared to distance is a too wide to use that relationship to impute average ride time for the missing data points. I could make a new column called 'estimated_ride_time' that uses their relationship to predict how long it should take. That could be done by combining all of the distance/altitude/difficulty data into a linear regression model to predict the average minutes for the ride."
   ]
  },
  {
   "cell_type": "code",
   "execution_count": 21,
   "metadata": {},
   "outputs": [],
   "source": [
    "#if there is only one type of distance than the other two are zero\n",
    "df.loc[df['distance'] == df['distance_climb'], ['distance_down', 'distance_flat']] = 0.0\n",
    "df.loc[df['distance'] == df['distance_down'], ['distance_climb', 'distance_flat']] = 0.0\n",
    "df.loc[df['distance'] == df['distance_flat'], ['distance_down', 'distance_climb']] = 0.0\n",
    "\n",
    "#next block takes care of cases where only one of the distances is missing \n",
    "mask = (\n",
    "    (df['distance_climb'].isna()) &\n",
    "    ((df['distance_down'] + df['distance_flat']) != df['distance']) &\n",
    "    ((df['distance_down'] + df['distance_flat']) < df['distance'])\n",
    ")\n",
    "df.loc[mask, 'distance_climb'] = df.loc[mask, 'distance'] - (df.loc[mask, 'distance_down'] + df.loc[mask, 'distance_flat'])\n",
    "\n",
    "mask = (\n",
    "    (df['distance_flat'].isna()) &\n",
    "    ((df['distance_down'] + df['distance_climb']) != df['distance']) &\n",
    "    ((df['distance_down'] + df['distance_climb']) < df['distance'])\n",
    ")\n",
    "df.loc[mask, 'distance_flat'] = df.loc[mask, 'distance'] - (df.loc[mask, 'distance_down'] + df.loc[mask, 'distance_climb'])\n",
    "\n",
    "mask = (\n",
    "    (df['distance_down'].isna()) &\n",
    "    ((df['distance_climb'] + df['distance_flat']) != df['distance']) &\n",
    "    ((df['distance_climb'] + df['distance_flat']) < df['distance'])\n",
    ")\n",
    "df.loc[mask, 'distance_down'] = df.loc[mask, 'distance'] - (df.loc[mask, 'distance_climb'] + df.loc[mask, 'distance_flat'])\n",
    "\n",
    "#after all other cases are considered the rest of the nulls with no starting dist should be 0\n",
    "for col in ['distance_down', 'distance_climb', 'distance_flat']:\n",
    "    mask = (\n",
    "        (df[col].isna()) &\n",
    "        (df['distance'].notna())\n",
    "    )\n",
    "    df.loc[mask, col] = 0.0"
   ]
  },
  {
   "cell_type": "code",
   "execution_count": 22,
   "metadata": {},
   "outputs": [
    {
     "name": "stdout",
     "output_type": "stream",
     "text": [
      "331\n",
      "331\n",
      "331\n"
     ]
    }
   ],
   "source": [
    "for col in ['distance_down', 'distance_climb', 'distance_flat']:\n",
    "    print(len(df.loc[df[col].isna()]))"
   ]
  },
  {
   "cell_type": "code",
   "execution_count": 23,
   "metadata": {},
   "outputs": [],
   "source": [
    "mask = (\n",
    "    (df['climb'].isna()) &\n",
    "    (df['distance_climb'] == 0.0)\n",
    ")\n",
    "df.loc[mask, 'climb'] = 0.0\n",
    "\n",
    "mask = (\n",
    "    (df['descent'].isna()) &\n",
    "    (df['distance_down'] == 0.0)\n",
    ")\n",
    "df.loc[mask, 'descent'] = 0.0"
   ]
  },
  {
   "cell_type": "code",
   "execution_count": 24,
   "metadata": {},
   "outputs": [
    {
     "name": "stdout",
     "output_type": "stream",
     "text": [
      "1749\n",
      "2087\n"
     ]
    }
   ],
   "source": [
    "for col in ['descent', 'climb']:\n",
    "    print(len(df.loc[df[col].isna()]))"
   ]
  },
  {
   "cell_type": "code",
   "execution_count": 25,
   "metadata": {},
   "outputs": [
    {
     "data": {
      "image/png": "[encoded data removed]",
      "text/plain": [
       "<Figure size 432x288 with 1 Axes>"
      ]
     },
     "metadata": {},
     "output_type": "display_data"
    }
   ],
   "source": [
    "#plt.scatter(x=df['climb'], y=df['distance_climb'])\n",
    "plt.scatter(x=df['climb'], y=df['altitude_change'])\n",
    "plt.show()"
   ]
  },
  {
   "cell_type": "code",
   "execution_count": 26,
   "metadata": {},
   "outputs": [
    {
     "data": {
      "text/html": [
       "<div>\n",
       "<style scoped>\n",
       "    .dataframe tbody tr th:only-of-type {\n",
       "        vertical-align: middle;\n",
       "    }\n",
       "\n",
       "    .dataframe tbody tr th {\n",
       "        vertical-align: top;\n",
       "    }\n",
       "\n",
       "    .dataframe thead th {\n",
       "        text-align: right;\n",
       "    }\n",
       "</style>\n",
       "<table border=\"1\" class=\"dataframe\">\n",
       "  <thead>\n",
       "    <tr style=\"text-align: right;\">\n",
       "      <th></th>\n",
       "      <th>distance_climb</th>\n",
       "      <th>altitude_change</th>\n",
       "    </tr>\n",
       "  </thead>\n",
       "  <tbody>\n",
       "    <tr>\n",
       "      <th>count</th>\n",
       "      <td>1756.000000</td>\n",
       "      <td>1756.000000</td>\n",
       "    </tr>\n",
       "    <tr>\n",
       "      <th>mean</th>\n",
       "      <td>277.312642</td>\n",
       "      <td>-72.375285</td>\n",
       "    </tr>\n",
       "    <tr>\n",
       "      <th>std</th>\n",
       "      <td>1600.272924</td>\n",
       "      <td>129.881168</td>\n",
       "    </tr>\n",
       "    <tr>\n",
       "      <th>min</th>\n",
       "      <td>1.000000</td>\n",
       "      <td>-2034.000000</td>\n",
       "    </tr>\n",
       "    <tr>\n",
       "      <th>25%</th>\n",
       "      <td>29.000000</td>\n",
       "      <td>-87.000000</td>\n",
       "    </tr>\n",
       "    <tr>\n",
       "      <th>50%</th>\n",
       "      <td>58.000000</td>\n",
       "      <td>-23.000000</td>\n",
       "    </tr>\n",
       "    <tr>\n",
       "      <th>75%</th>\n",
       "      <td>120.000000</td>\n",
       "      <td>-4.000000</td>\n",
       "    </tr>\n",
       "    <tr>\n",
       "      <th>max</th>\n",
       "      <td>36596.000000</td>\n",
       "      <td>57.000000</td>\n",
       "    </tr>\n",
       "  </tbody>\n",
       "</table>\n",
       "</div>"
      ],
      "text/plain": [
       "       distance_climb  altitude_change\n",
       "count     1756.000000      1756.000000\n",
       "mean       277.312642       -72.375285\n",
       "std       1600.272924       129.881168\n",
       "min          1.000000     -2034.000000\n",
       "25%         29.000000       -87.000000\n",
       "50%         58.000000       -23.000000\n",
       "75%        120.000000        -4.000000\n",
       "max      36596.000000        57.000000"
      ]
     },
     "execution_count": 26,
     "metadata": {},
     "output_type": "execute_result"
    }
   ],
   "source": [
    "df.loc[df.climb.isna(), ['distance_climb', 'altitude_change']].describe()"
   ]
  },
  {
   "cell_type": "code",
   "execution_count": 27,
   "metadata": {},
   "outputs": [
    {
     "data": {
      "text/html": [
       "<div>\n",
       "<style scoped>\n",
       "    .dataframe tbody tr th:only-of-type {\n",
       "        vertical-align: middle;\n",
       "    }\n",
       "\n",
       "    .dataframe tbody tr th {\n",
       "        vertical-align: top;\n",
       "    }\n",
       "\n",
       "    .dataframe thead th {\n",
       "        text-align: right;\n",
       "    }\n",
       "</style>\n",
       "<table border=\"1\" class=\"dataframe\">\n",
       "  <thead>\n",
       "    <tr style=\"text-align: right;\">\n",
       "      <th></th>\n",
       "      <th>climb</th>\n",
       "      <th>descent</th>\n",
       "      <th>distance_climb</th>\n",
       "      <th>distance_down</th>\n",
       "      <th>altitude_max</th>\n",
       "      <th>altitude_min</th>\n",
       "      <th>altitude_change</th>\n",
       "    </tr>\n",
       "  </thead>\n",
       "  <tbody>\n",
       "    <tr>\n",
       "      <th>33</th>\n",
       "      <td>NaN</td>\n",
       "      <td>-22.0</td>\n",
       "      <td>82.0</td>\n",
       "      <td>518.0</td>\n",
       "      <td>7979.0</td>\n",
       "      <td>7955.0</td>\n",
       "      <td>-24.0</td>\n",
       "    </tr>\n",
       "    <tr>\n",
       "      <th>49</th>\n",
       "      <td>NaN</td>\n",
       "      <td>NaN</td>\n",
       "      <td>NaN</td>\n",
       "      <td>NaN</td>\n",
       "      <td>NaN</td>\n",
       "      <td>NaN</td>\n",
       "      <td>NaN</td>\n",
       "    </tr>\n",
       "    <tr>\n",
       "      <th>68</th>\n",
       "      <td>NaN</td>\n",
       "      <td>-29.0</td>\n",
       "      <td>33.0</td>\n",
       "      <td>404.0</td>\n",
       "      <td>8000.0</td>\n",
       "      <td>7969.0</td>\n",
       "      <td>-31.0</td>\n",
       "    </tr>\n",
       "    <tr>\n",
       "      <th>71</th>\n",
       "      <td>NaN</td>\n",
       "      <td>-24.0</td>\n",
       "      <td>4.0</td>\n",
       "      <td>249.0</td>\n",
       "      <td>8005.0</td>\n",
       "      <td>7980.0</td>\n",
       "      <td>-25.0</td>\n",
       "    </tr>\n",
       "    <tr>\n",
       "      <th>73</th>\n",
       "      <td>NaN</td>\n",
       "      <td>-38.0</td>\n",
       "      <td>33.0</td>\n",
       "      <td>456.0</td>\n",
       "      <td>8022.0</td>\n",
       "      <td>7983.0</td>\n",
       "      <td>-39.0</td>\n",
       "    </tr>\n",
       "    <tr>\n",
       "      <th>...</th>\n",
       "      <td>...</td>\n",
       "      <td>...</td>\n",
       "      <td>...</td>\n",
       "      <td>...</td>\n",
       "      <td>...</td>\n",
       "      <td>...</td>\n",
       "      <td>...</td>\n",
       "    </tr>\n",
       "    <tr>\n",
       "      <th>59278</th>\n",
       "      <td>NaN</td>\n",
       "      <td>-237.0</td>\n",
       "      <td>29.0</td>\n",
       "      <td>2802.0</td>\n",
       "      <td>8898.0</td>\n",
       "      <td>8659.0</td>\n",
       "      <td>-239.0</td>\n",
       "    </tr>\n",
       "    <tr>\n",
       "      <th>59283</th>\n",
       "      <td>NaN</td>\n",
       "      <td>-18.0</td>\n",
       "      <td>15.0</td>\n",
       "      <td>287.0</td>\n",
       "      <td>4954.0</td>\n",
       "      <td>4935.0</td>\n",
       "      <td>-19.0</td>\n",
       "    </tr>\n",
       "    <tr>\n",
       "      <th>59293</th>\n",
       "      <td>NaN</td>\n",
       "      <td>NaN</td>\n",
       "      <td>NaN</td>\n",
       "      <td>NaN</td>\n",
       "      <td>NaN</td>\n",
       "      <td>NaN</td>\n",
       "      <td>NaN</td>\n",
       "    </tr>\n",
       "    <tr>\n",
       "      <th>59473</th>\n",
       "      <td>NaN</td>\n",
       "      <td>-603.0</td>\n",
       "      <td>107.0</td>\n",
       "      <td>4150.0</td>\n",
       "      <td>1603.0</td>\n",
       "      <td>1000.0</td>\n",
       "      <td>-603.0</td>\n",
       "    </tr>\n",
       "    <tr>\n",
       "      <th>59475</th>\n",
       "      <td>NaN</td>\n",
       "      <td>-11.0</td>\n",
       "      <td>110.0</td>\n",
       "      <td>518.0</td>\n",
       "      <td>2560.0</td>\n",
       "      <td>2550.0</td>\n",
       "      <td>-10.0</td>\n",
       "    </tr>\n",
       "  </tbody>\n",
       "</table>\n",
       "<p>2087 rows × 7 columns</p>\n",
       "</div>"
      ],
      "text/plain": [
       "       climb  descent  distance_climb  distance_down  altitude_max  \\\n",
       "33       NaN    -22.0            82.0          518.0        7979.0   \n",
       "49       NaN      NaN             NaN            NaN           NaN   \n",
       "68       NaN    -29.0            33.0          404.0        8000.0   \n",
       "71       NaN    -24.0             4.0          249.0        8005.0   \n",
       "73       NaN    -38.0            33.0          456.0        8022.0   \n",
       "...      ...      ...             ...            ...           ...   \n",
       "59278    NaN   -237.0            29.0         2802.0        8898.0   \n",
       "59283    NaN    -18.0            15.0          287.0        4954.0   \n",
       "59293    NaN      NaN             NaN            NaN           NaN   \n",
       "59473    NaN   -603.0           107.0         4150.0        1603.0   \n",
       "59475    NaN    -11.0           110.0          518.0        2560.0   \n",
       "\n",
       "       altitude_min  altitude_change  \n",
       "33           7955.0            -24.0  \n",
       "49              NaN              NaN  \n",
       "68           7969.0            -31.0  \n",
       "71           7980.0            -25.0  \n",
       "73           7983.0            -39.0  \n",
       "...             ...              ...  \n",
       "59278        8659.0           -239.0  \n",
       "59283        4935.0            -19.0  \n",
       "59293           NaN              NaN  \n",
       "59473        1000.0           -603.0  \n",
       "59475        2550.0            -10.0  \n",
       "\n",
       "[2087 rows x 7 columns]"
      ]
     },
     "execution_count": 27,
     "metadata": {},
     "output_type": "execute_result"
    }
   ],
   "source": [
    "df.loc[df.climb.isna(), ['climb', 'descent', 'distance_climb', 'distance_down', 'altitude_max', 'altitude_min', 'altitude_change']]"
   ]
  },
  {
   "cell_type": "code",
   "execution_count": 28,
   "metadata": {},
   "outputs": [
    {
     "data": {
      "text/plain": [
       "array(['Very Difficult', 'Intermediate', 'Easy', 'Extremely Difficult',\n",
       "       'NaN', 'Easiest'], dtype=object)"
      ]
     },
     "execution_count": 28,
     "metadata": {},
     "output_type": "execute_result"
    }
   ],
   "source": [
    "ratings = df['difficulty_rating'].str.split('/')\n",
    "df['difficulty_value'] = [rating[0].strip() for rating in ratings]\n",
    "df['difficulty_symbol'] = [rating[1].strip() if len(rating) > 1 else 'NaN' for rating in ratings]\n",
    "\n",
    "#handling unique cases so that \n",
    "df.loc[df['difficulty_value'].str.contains('Access'), 'difficulty_value'] = 'Easy'\n",
    "df.loc[df['difficulty_value'].str.contains('pros'), 'difficulty_value'] = 'Extremely Difficult'\n",
    "df.loc[df['difficulty_value'].str.contains('Severe'), 'difficulty_value'] = 'Extremely Difficult'\n",
    "df.loc[df['difficulty_value'].str.contains('Advanced'), 'difficulty_value'] = 'Very Difficult'\n",
    "df.loc[df['difficulty_value'] == 'BUMMER', 'difficulty_value'] = 'NaN'\n",
    "df['difficulty_value'].unique()"
   ]
  },
  {
   "cell_type": "code",
   "execution_count": 29,
   "metadata": {},
   "outputs": [
    {
     "data": {
      "text/plain": [
       "array(['Black Diamond', 'Blue Square', 'Green Circe', 'Dbl Black Diamond',\n",
       "       'NaN', 'White Circle'], dtype=object)"
      ]
     },
     "execution_count": 29,
     "metadata": {},
     "output_type": "execute_result"
    }
   ],
   "source": [
    "#cleaning the symbols to match the value for difficulty, this is probably unnecessary since\n",
    "#the difficulty value conveys the same information\n",
    "difficulty = {'Easiest':'White Circle', \n",
    "              'Easy':'Green Circe', \n",
    "              'Intermediate':'Blue Square',\n",
    "              'Very Difficult':'Black Diamond',\n",
    "              'Extremely Difficult':'Dbl Black Diamond'\n",
    "             }\n",
    "for value in difficulty:\n",
    "    df.loc[df['difficulty_value'] == value, 'difficulty_symbol'] = difficulty[value]\n",
    "    \n",
    "df['difficulty_symbol'].unique()"
   ]
  },
  {
   "cell_type": "markdown",
   "metadata": {},
   "source": [
    "## Location: City & State"
   ]
  },
  {
   "cell_type": "code",
   "execution_count": 30,
   "metadata": {},
   "outputs": [],
   "source": [
    "df.loc[df['location'].isna(), 'city'] = 'NaN'\n",
    "df.loc[df['location'].isna(), 'state'] = 'NaN'"
   ]
  },
  {
   "cell_type": "code",
   "execution_count": 31,
   "metadata": {},
   "outputs": [],
   "source": [
    "#nulls are stored as np.Nan which limits the ability to manipulate the strings\n",
    "#changing to 'NaN' so that city and state data can be separated\n",
    "df.loc[df['location'].isna(), 'location'] = 'NaN'\n",
    "\n",
    "location = df['location'].str.split(',')\n",
    "df['city'] = ['NaN' if len(loc) == 1 else loc[0].strip() for loc in location]\n",
    "df['state'] = [loc[1].strip() if len(loc) > 1 else loc[0].strip() for loc in location]"
   ]
  },
  {
   "cell_type": "code",
   "execution_count": 32,
   "metadata": {},
   "outputs": [],
   "source": [
    "riding_area = df.loc[df.city == 'NaN', 'riding_area'].unique()\n",
    "for ride in riding_area:\n",
    "    city = df.loc[(df.riding_area == ride) & (df.city != 'NaN'), 'city']\n",
    "    try:\n",
    "        df.loc[(df.riding_area == ride) & (df.city == 'NaN'), 'city'] = city.values[0]\n",
    "    except IndexError:\n",
    "        df.loc[(df.riding_area == ride) & (df.city == 'NaN'), 'city'] = 'NaN'"
   ]
  },
  {
   "cell_type": "code",
   "execution_count": 33,
   "metadata": {},
   "outputs": [],
   "source": [
    "#fixing some cities that can be inferred from riding area\n",
    "riding_area_cities = {\n",
    "    'San Francisco Bay Area':'San Francisco',\n",
    "    'Washington DC':'Washington DC',\n",
    "    'Santa Fe Area':'Santa Fe',\n",
    "    'South Puget Sound':'Dupont',\n",
    "    'San Luis Obispo County':'San Luis Obispo',\n",
    "    'Mark Twain National Forest - Houston Rolla District':'Houston',\n",
    "}\n",
    "\n",
    "for ride in riding_area_cities:\n",
    "    df.loc[df.riding_area == ride, 'city'] = riding_area_cities[ride]"
   ]
  },
  {
   "cell_type": "code",
   "execution_count": 34,
   "metadata": {},
   "outputs": [
    {
     "data": {
      "text/plain": [
       "400"
      ]
     },
     "execution_count": 34,
     "metadata": {},
     "output_type": "execute_result"
    }
   ],
   "source": [
    "len(df.loc[df.city == 'NaN'])"
   ]
  },
  {
   "cell_type": "markdown",
   "metadata": {},
   "source": [
    "## Categorical String Dummy Conversion"
   ]
  },
  {
   "cell_type": "code",
   "execution_count": 35,
   "metadata": {},
   "outputs": [],
   "source": [
    "ttfs = unique_categories(df, 'ttfs_on_trail')\n",
    "bikes = unique_categories(df, 'bike_type')"
   ]
  },
  {
   "cell_type": "code",
   "execution_count": 36,
   "metadata": {},
   "outputs": [],
   "source": [
    "string_list_dummies(ttfs, df, 'ttfs_on_trail')\n",
    "string_list_dummies(bikes, df, 'bike_type')"
   ]
  },
  {
   "cell_type": "markdown",
   "metadata": {},
   "source": [
    "## Descriptions, Gradients, & Other Columns"
   ]
  },
  {
   "cell_type": "code",
   "execution_count": 37,
   "metadata": {},
   "outputs": [],
   "source": [
    "df.loc[df['dogs_allowed'] == 'BUMMER', 'dogs_allowed'] = 'No'"
   ]
  },
  {
   "cell_type": "code",
   "execution_count": 38,
   "metadata": {},
   "outputs": [],
   "source": [
    "#there is a canned response for trails without a description, replacing that with 'NaN'\n",
    "df.loc[df.description.str.contains('No description for'), 'description'] = 'No Description'\n",
    "df.loc[df.description == 'BUMMER', 'description'] = 'No Description'"
   ]
  },
  {
   "cell_type": "code",
   "execution_count": 39,
   "metadata": {},
   "outputs": [],
   "source": [
    "grades = ['grade', 'grade_max', 'grade_min']\n",
    "for grade in grades:\n",
    "    df[grade] = df[grade].str.replace('%', '').astype('float')"
   ]
  },
  {
   "cell_type": "code",
   "execution_count": 40,
   "metadata": {},
   "outputs": [
    {
     "name": "stdout",
     "output_type": "stream",
     "text": [
      "3761\n",
      "355\n"
     ]
    }
   ],
   "source": [
    "print(len(df.loc[df.grade.isna()]))\n",
    "mask = (\n",
    "    (df.grade.isna()) &\n",
    "    (df.altitude_change.notna()) &\n",
    "    (df.distance.notna())\n",
    ")\n",
    "df.loc[mask, 'grade'] = (df.loc[mask, 'altitude_change'] / df.loc[mask, 'distance']) * 100\n",
    "print(len(df.loc[df.grade.isna()]))"
   ]
  },
  {
   "cell_type": "code",
   "execution_count": 41,
   "metadata": {},
   "outputs": [
    {
     "data": {
      "image/png": "[encoded data removed]",
      "text/plain": [
       "<Figure size 432x288 with 1 Axes>"
      ]
     },
     "metadata": {},
     "output_type": "display_data"
    }
   ],
   "source": [
    "plt.hist(df['grade_max'], bins=100)\n",
    "plt.hist(df['grade_min'], bins=100)\n",
    "plt.xlim(-500, 3000)\n",
    "plt.show()"
   ]
  },
  {
   "cell_type": "code",
   "execution_count": 42,
   "metadata": {},
   "outputs": [
    {
     "data": {
      "image/png": "[encoded data removed]",
      "text/plain": [
       "<Figure size 432x288 with 1 Axes>"
      ]
     },
     "metadata": {},
     "output_type": "display_data"
    }
   ],
   "source": [
    "# checking to make sure total_rides was converted correctly\n",
    "plt.hist(df['total_rides'], bins=100)\n",
    "plt.show()"
   ]
  },
  {
   "cell_type": "code",
   "execution_count": 43,
   "metadata": {},
   "outputs": [
    {
     "name": "stdout",
     "output_type": "stream",
     "text": [
      "trail_id:\t\t12\n",
      "trail_name:\t\t0\n",
      "climb:\t\t2087\n",
      "descent:\t\t1749\n",
      "distance:\t\t331\n",
      "description:\t\t0\n",
      "grade_min:\t\t703\n",
      "grade:\t\t355\n",
      "distance_climb:\t\t331\n",
      "grade_max:\t\t669\n",
      "altitude_change:\t\t355\n",
      "distance_down:\t\t331\n",
      "altitude_start:\t\t357\n",
      "altitude_min:\t\t377\n",
      "altitude_end:\t\t358\n",
      "distance_flat:\t\t331\n",
      "altitude_max:\t\t361\n",
      "average_time:\t\t0\n",
      "total_rides:\t\t0\n",
      "comment_count:\t\t52311\n",
      "location:\t\t0\n",
      "riding_area:\t\t0\n",
      "difficulty_rating:\t\t0\n",
      "trail_type:\t\t0\n",
      "bike_type:\t\t0\n",
      "dogs_allowed:\t\t0\n",
      "ttfs_on_trail:\t\t0\n",
      "global_ranking:\t\t16396\n"
     ]
    }
   ],
   "source": [
    "for col in original_columns:\n",
    "    nulls = len(df.loc[df[col].isna()])\n",
    "    #bummers = len(df.loc[df[col] == 'BUMMER'])\n",
    "    #col_null = nulls + bummers\n",
    "    print('{}:\\t\\t{}'.format(col, nulls))"
   ]
  },
  {
   "cell_type": "markdown",
   "metadata": {},
   "source": [
    "All in all the null solutions were very effective. Comment count was turned into the binary 'has_comments' column so the raw column will be excluded from the export. Global Ranking was binarized as well to classify whether a trail is ranked globally or not. I am unsure how the climb and descent measures were calculated, which makes it difficult to impute the remaining missing rows. These columns may be excluded safely considering the amount of climbing and desceneding is properly characterized with other variables. The only two remaining variables that were not brought to under 400 NaN's are grade_max and grade_min. I believe those were calculated from the .kmz files for the trails on trailforks database, which means imputation can not be accurately done here outside of filling with means. I did not do that in this case since the end result will be converting the values of each trail to a vector. Imputing incorrect values or imputing on incorrect assumptions could have adversely alter the similarity calculations. "
   ]
  },
  {
   "cell_type": "code",
   "execution_count": 44,
   "metadata": {},
   "outputs": [],
   "source": [
    "# saving cleaned and engineered columns to csv so that cleaning script won't need to be\n",
    "# addressed each time an EDA or modeling effort is undertaken\n",
    "\n",
    "header = ['trail_id', 'trail_name', 'city', 'state', 'riding_area', 'trail_type', 'total_rides',\n",
    "          'difficulty_value', 'difficulty_symbol', 'dogs_allowed', 'has_comments', 'globally_ranked', \n",
    "          'distance', 'distance_climb', 'distance_down', 'distance_flat', 'climb', 'descent',\n",
    "          'avg_ride_minutes', 'rock_garden', 'roller_coaster', 'berm', 'jump', 'log_ride', 'other',\n",
    "          'drop', 'rock_face', 'gap_jump', 'ladder_bridge', 'bridge', 'skinny', 'a-frame',\n",
    "          'pump_track', 'teeter_totter', 'wallride', 'xc', 'dh', 'am', 'fat', 'gravel', 'dj',\n",
    "          'adaptive_mtb', 'rd', 'cx', 'altitude_change', 'altitude_start', 'altitude_end', 'altitude_max',\n",
    "          'altitude_min', 'grade', 'grade_max', 'grade_min', 'description'\n",
    "         ]\n",
    "\n",
    "df = df[header]\n",
    "df.to_csv('trail_stats_cleaned.csv', header=header, index=False)"
   ]
  },
  {
   "cell_type": "code",
   "execution_count": null,
   "metadata": {},
   "outputs": [],
   "source": []
  }
 ],
 "metadata": {
  "kernelspec": {
   "display_name": "Python 3",
   "language": "python",
   "name": "python3"
  },
  "language_info": {
   "codemirror_mode": {
    "name": "ipython",
    "version": 3
   },
   "file_extension": ".py",
   "mimetype": "text/x-python",
   "name": "python",
   "nbconvert_exporter": "python",
   "pygments_lexer": "ipython3",
   "version": "3.7.1"
  },
  "toc": {
   "base_numbering": 1,
   "nav_menu": {},
   "number_sections": true,
   "sideBar": true,
   "skip_h1_title": true,
   "title_cell": "Table of Contents",
   "title_sidebar": "Contents",
   "toc_cell": false,
   "toc_position": {},
   "toc_section_display": true,
   "toc_window_display": true
  }
 },
 "nbformat": 4,
 "nbformat_minor": 2
}
