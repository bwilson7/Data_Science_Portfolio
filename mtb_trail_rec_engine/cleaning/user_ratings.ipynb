{
 "cells": [
  {
   "cell_type": "code",
   "execution_count": 2,
   "metadata": {},
   "outputs": [],
   "source": [
    "import pandas as pd\n",
    "import numpy as np\n",
    "import matplotlib.pyplot as plt\n",
    "%matplotlib inline\n",
    "import time\n",
    "import seaborn as sns\n",
    "sns.set(style='white')"
   ]
  },
  {
   "cell_type": "code",
   "execution_count": 3,
   "metadata": {},
   "outputs": [],
   "source": [
    "df = pd.read_json('usa_trails_user_rankings.json')"
   ]
  },
  {
   "cell_type": "code",
   "execution_count": 4,
   "metadata": {},
   "outputs": [
    {
     "data": {
      "text/html": [
       "<div>\n",
       "<style scoped>\n",
       "    .dataframe tbody tr th:only-of-type {\n",
       "        vertical-align: middle;\n",
       "    }\n",
       "\n",
       "    .dataframe tbody tr th {\n",
       "        vertical-align: top;\n",
       "    }\n",
       "\n",
       "    .dataframe thead th {\n",
       "        text-align: right;\n",
       "    }\n",
       "</style>\n",
       "<table border=\"1\" class=\"dataframe\">\n",
       "  <thead>\n",
       "    <tr style=\"text-align: right;\">\n",
       "      <th></th>\n",
       "      <th>user</th>\n",
       "      <th>rate_date</th>\n",
       "      <th>rating</th>\n",
       "      <th>trail_id</th>\n",
       "    </tr>\n",
       "  </thead>\n",
       "  <tbody>\n",
       "    <tr>\n",
       "      <th>0</th>\n",
       "      <td>namdoogttam</td>\n",
       "      <td>Jun 13, 2018 @ 12:43pm</td>\n",
       "      <td>10</td>\n",
       "      <td>trail_99253</td>\n",
       "    </tr>\n",
       "    <tr>\n",
       "      <th>1</th>\n",
       "      <td>WanderingMan</td>\n",
       "      <td>Aug 12, 2017 @ 2:09pm</td>\n",
       "      <td>8</td>\n",
       "      <td>trail_99253</td>\n",
       "    </tr>\n",
       "    <tr>\n",
       "      <th>2</th>\n",
       "      <td>BackyardTrailsLLC</td>\n",
       "      <td>Mar 28, 2019 @ 11:46am</td>\n",
       "      <td>8</td>\n",
       "      <td>trail_130598</td>\n",
       "    </tr>\n",
       "    <tr>\n",
       "      <th>3</th>\n",
       "      <td>mtnmanpdx</td>\n",
       "      <td>Apr 8, 2019 @ 7:16pm</td>\n",
       "      <td>8</td>\n",
       "      <td>trail_140378</td>\n",
       "    </tr>\n",
       "    <tr>\n",
       "      <th>4</th>\n",
       "      <td>dylanmoore</td>\n",
       "      <td>Sep 12, 2018 @ 8:41pm</td>\n",
       "      <td>8</td>\n",
       "      <td>trail_140378</td>\n",
       "    </tr>\n",
       "  </tbody>\n",
       "</table>\n",
       "</div>"
      ],
      "text/plain": [
       "                user               rate_date  rating      trail_id\n",
       "0        namdoogttam  Jun 13, 2018 @ 12:43pm      10   trail_99253\n",
       "1       WanderingMan   Aug 12, 2017 @ 2:09pm       8   trail_99253\n",
       "2  BackyardTrailsLLC  Mar 28, 2019 @ 11:46am       8  trail_130598\n",
       "3          mtnmanpdx    Apr 8, 2019 @ 7:16pm       8  trail_140378\n",
       "4         dylanmoore   Sep 12, 2018 @ 8:41pm       8  trail_140378"
      ]
     },
     "execution_count": 4,
     "metadata": {},
     "output_type": "execute_result"
    }
   ],
   "source": [
    "df.head()"
   ]
  },
  {
   "cell_type": "code",
   "execution_count": 5,
   "metadata": {},
   "outputs": [],
   "source": [
    "df['rating'] = df['rating'].astype('int') / 2"
   ]
  },
  {
   "cell_type": "code",
   "execution_count": 6,
   "metadata": {},
   "outputs": [
    {
     "data": {
      "image/png": "[encoded data removed]",
      "text/plain": [
       "<Figure size 432x288 with 1 Axes>"
      ]
     },
     "metadata": {
      "needs_background": "light"
     },
     "output_type": "display_data"
    }
   ],
   "source": [
    "plt.hist(df['rating'], bins=5)\n",
    "plt.axvline(df['rating'].mean(), color='red', ls='--')\n",
    "plt.xlabel('Trail Rating')\n",
    "plt.title('Distribution of Trail Ratings in The USA')\n",
    "plt.show()"
   ]
  },
  {
   "cell_type": "code",
   "execution_count": 7,
   "metadata": {},
   "outputs": [],
   "source": [
    "rating_date = df['rate_date'].str.replace(',', '').str.split()\n",
    "df['rating_month'] = [date[0] for date in rating_date]\n",
    "df['rating_day'] = [date[1] for date in rating_date]\n",
    "df['rating_year'] = [date[2] for date in rating_date]\n",
    "df['rating_time'] = [date[4] for date in rating_date]"
   ]
  },
  {
   "cell_type": "code",
   "execution_count": 19,
   "metadata": {},
   "outputs": [],
   "source": [
    "df.to_csv('trail_ratings_cleaned.csv', index=False)"
   ]
  },
  {
   "cell_type": "code",
   "execution_count": 8,
   "metadata": {},
   "outputs": [],
   "source": [
    "model_df = df[['user', 'trail_id', 'rating']]\n",
    "model_df.to_csv('trail_ratings_colab.csv')"
   ]
  }
 ],
 "metadata": {
  "kernelspec": {
   "display_name": "Python 3",
   "language": "python",
   "name": "python3"
  },
  "language_info": {
   "codemirror_mode": {
    "name": "ipython",
    "version": 3
   },
   "file_extension": ".py",
   "mimetype": "text/x-python",
   "name": "python",
   "nbconvert_exporter": "python",
   "pygments_lexer": "ipython3",
   "version": "3.7.1"
  },
  "toc": {
   "base_numbering": 1,
   "nav_menu": {},
   "number_sections": true,
   "sideBar": true,
   "skip_h1_title": false,
   "title_cell": "Table of Contents",
   "title_sidebar": "Contents",
   "toc_cell": false,
   "toc_position": {},
   "toc_section_display": true,
   "toc_window_display": true
  }
 },
 "nbformat": 4,
 "nbformat_minor": 2
}
